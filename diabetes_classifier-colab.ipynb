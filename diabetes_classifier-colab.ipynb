{
 "cells": [
  {
   "cell_type": "markdown",
   "metadata": {
    "colab_type": "text",
    "id": "Y7SzI9_oF6sW"
   },
   "source": [
    "## Data Exploration\n",
    "\n",
    "We explore our data to know its shape and distribution to check whether it's normally distributed or not and also to check for outliers. So we print \n",
    "- the first 5 records from our dataset \n",
    "- and statistical information about the whole dataset.\n",
    "This data set is constructed from two different data sets that contains meals and the nutritions in it and they can be found in kaggle website [here](https://www.kaggle.com/maheshdadhich/us-healthcare-data#Nutritions_US.csv) and [here](https://www.kaggle.com/hugodarwood/epirecipes#epi_r.csv) and we are working to find more datasets to enrich our dataset."
   ]
  },
  {
   "cell_type": "code",
   "execution_count": 110,
   "metadata": {
    "colab": {
     "base_uri": "https://localhost:8080/",
     "height": 484
    },
    "colab_type": "code",
    "executionInfo": {
     "elapsed": 5708,
     "status": "ok",
     "timestamp": 1560986999998,
     "user": {
      "displayName": "Mahmoud Galal",
      "photoUrl": "https://lh3.googleusercontent.com/-YxcylynoizM/AAAAAAAAAAI/AAAAAAAAAAk/7Yz1NkZHuHA/s64/photo.jpg",
      "userId": "06347805963297415872"
     },
     "user_tz": -120
    },
    "id": "-yG67LN_F6sY",
    "outputId": "1799352c-9ffa-4283-d66c-31c79ca8f7b9"
   },
   "outputs": [
    {
     "data": {
      "text/html": [
       "<div>\n",
       "<style scoped>\n",
       "    .dataframe tbody tr th:only-of-type {\n",
       "        vertical-align: middle;\n",
       "    }\n",
       "\n",
       "    .dataframe tbody tr th {\n",
       "        vertical-align: top;\n",
       "    }\n",
       "\n",
       "    .dataframe thead th {\n",
       "        text-align: right;\n",
       "    }\n",
       "</style>\n",
       "<table border=\"1\" class=\"dataframe\">\n",
       "  <thead>\n",
       "    <tr style=\"text-align: right;\">\n",
       "      <th></th>\n",
       "      <th>calories</th>\n",
       "      <th>protein</th>\n",
       "      <th>fat</th>\n",
       "      <th>sodium</th>\n",
       "      <th>carbs</th>\n",
       "      <th>is_harm1</th>\n",
       "      <th>is_harm2</th>\n",
       "      <th>is_harm</th>\n",
       "    </tr>\n",
       "  </thead>\n",
       "  <tbody>\n",
       "    <tr>\n",
       "      <th>0</th>\n",
       "      <td>426</td>\n",
       "      <td>30.0</td>\n",
       "      <td>7.0</td>\n",
       "      <td>0.559</td>\n",
       "      <td>53.25</td>\n",
       "      <td>1</td>\n",
       "      <td>0</td>\n",
       "      <td>0</td>\n",
       "    </tr>\n",
       "    <tr>\n",
       "      <th>1</th>\n",
       "      <td>170</td>\n",
       "      <td>7.0</td>\n",
       "      <td>10.0</td>\n",
       "      <td>1.272</td>\n",
       "      <td>21.25</td>\n",
       "      <td>0</td>\n",
       "      <td>0</td>\n",
       "      <td>0</td>\n",
       "    </tr>\n",
       "    <tr>\n",
       "      <th>2</th>\n",
       "      <td>602</td>\n",
       "      <td>23.0</td>\n",
       "      <td>41.0</td>\n",
       "      <td>1.696</td>\n",
       "      <td>75.25</td>\n",
       "      <td>1</td>\n",
       "      <td>0</td>\n",
       "      <td>1</td>\n",
       "    </tr>\n",
       "    <tr>\n",
       "      <th>3</th>\n",
       "      <td>256</td>\n",
       "      <td>4.0</td>\n",
       "      <td>5.0</td>\n",
       "      <td>0.030</td>\n",
       "      <td>32.00</td>\n",
       "      <td>0</td>\n",
       "      <td>0</td>\n",
       "      <td>0</td>\n",
       "    </tr>\n",
       "    <tr>\n",
       "      <th>4</th>\n",
       "      <td>766</td>\n",
       "      <td>12.0</td>\n",
       "      <td>48.0</td>\n",
       "      <td>0.439</td>\n",
       "      <td>95.75</td>\n",
       "      <td>1</td>\n",
       "      <td>0</td>\n",
       "      <td>1</td>\n",
       "    </tr>\n",
       "  </tbody>\n",
       "</table>\n",
       "</div>"
      ],
      "text/plain": [
       "   calories  protein   fat  sodium  carbs  is_harm1  is_harm2  is_harm\n",
       "0       426     30.0   7.0   0.559  53.25         1         0        0\n",
       "1       170      7.0  10.0   1.272  21.25         0         0        0\n",
       "2       602     23.0  41.0   1.696  75.25         1         0        1\n",
       "3       256      4.0   5.0   0.030  32.00         0         0        0\n",
       "4       766     12.0  48.0   0.439  95.75         1         0        1"
      ]
     },
     "metadata": {
      "tags": []
     },
     "output_type": "display_data"
    },
    {
     "data": {
      "text/html": [
       "<div>\n",
       "<style scoped>\n",
       "    .dataframe tbody tr th:only-of-type {\n",
       "        vertical-align: middle;\n",
       "    }\n",
       "\n",
       "    .dataframe tbody tr th {\n",
       "        vertical-align: top;\n",
       "    }\n",
       "\n",
       "    .dataframe thead th {\n",
       "        text-align: right;\n",
       "    }\n",
       "</style>\n",
       "<table border=\"1\" class=\"dataframe\">\n",
       "  <thead>\n",
       "    <tr style=\"text-align: right;\">\n",
       "      <th></th>\n",
       "      <th>calories</th>\n",
       "      <th>protein</th>\n",
       "      <th>fat</th>\n",
       "      <th>sodium</th>\n",
       "      <th>carbs</th>\n",
       "      <th>is_harm1</th>\n",
       "      <th>is_harm2</th>\n",
       "      <th>is_harm</th>\n",
       "    </tr>\n",
       "  </thead>\n",
       "  <tbody>\n",
       "    <tr>\n",
       "      <th>count</th>\n",
       "      <td>2.465000e+04</td>\n",
       "      <td>24650.000000</td>\n",
       "      <td>2.465000e+04</td>\n",
       "      <td>24650.000000</td>\n",
       "      <td>2.465000e+04</td>\n",
       "      <td>24650.000000</td>\n",
       "      <td>24650.000000</td>\n",
       "      <td>24650.000000</td>\n",
       "    </tr>\n",
       "    <tr>\n",
       "      <th>mean</th>\n",
       "      <td>4.167728e+03</td>\n",
       "      <td>68.608099</td>\n",
       "      <td>2.245292e+02</td>\n",
       "      <td>4.134333</td>\n",
       "      <td>5.187687e+02</td>\n",
       "      <td>0.345233</td>\n",
       "      <td>0.105801</td>\n",
       "      <td>0.463651</td>\n",
       "    </tr>\n",
       "    <tr>\n",
       "      <th>std</th>\n",
       "      <td>2.886922e+05</td>\n",
       "      <td>3083.599909</td>\n",
       "      <td>1.641369e+04</td>\n",
       "      <td>267.990649</td>\n",
       "      <td>3.608656e+04</td>\n",
       "      <td>0.475454</td>\n",
       "      <td>0.307589</td>\n",
       "      <td>0.498687</td>\n",
       "    </tr>\n",
       "    <tr>\n",
       "      <th>min</th>\n",
       "      <td>0.000000e+00</td>\n",
       "      <td>0.000000</td>\n",
       "      <td>0.000000e+00</td>\n",
       "      <td>0.000000</td>\n",
       "      <td>0.000000e+00</td>\n",
       "      <td>0.000000</td>\n",
       "      <td>0.000000</td>\n",
       "      <td>0.000000</td>\n",
       "    </tr>\n",
       "    <tr>\n",
       "      <th>25%</th>\n",
       "      <td>1.500000e+02</td>\n",
       "      <td>3.000000</td>\n",
       "      <td>1.383000e+00</td>\n",
       "      <td>0.056000</td>\n",
       "      <td>1.190000e+01</td>\n",
       "      <td>0.000000</td>\n",
       "      <td>0.000000</td>\n",
       "      <td>0.000000</td>\n",
       "    </tr>\n",
       "    <tr>\n",
       "      <th>50%</th>\n",
       "      <td>2.770000e+02</td>\n",
       "      <td>8.000000</td>\n",
       "      <td>9.000000e+00</td>\n",
       "      <td>0.230000</td>\n",
       "      <td>3.200000e+01</td>\n",
       "      <td>0.000000</td>\n",
       "      <td>0.000000</td>\n",
       "      <td>0.000000</td>\n",
       "    </tr>\n",
       "    <tr>\n",
       "      <th>75%</th>\n",
       "      <td>4.750000e+02</td>\n",
       "      <td>22.180000</td>\n",
       "      <td>2.300000e+01</td>\n",
       "      <td>0.591000</td>\n",
       "      <td>6.374750e+01</td>\n",
       "      <td>1.000000</td>\n",
       "      <td>0.000000</td>\n",
       "      <td>1.000000</td>\n",
       "    </tr>\n",
       "    <tr>\n",
       "      <th>max</th>\n",
       "      <td>3.011122e+07</td>\n",
       "      <td>236489.000000</td>\n",
       "      <td>1.722763e+06</td>\n",
       "      <td>27675.110000</td>\n",
       "      <td>3.763902e+06</td>\n",
       "      <td>1.000000</td>\n",
       "      <td>1.000000</td>\n",
       "      <td>1.000000</td>\n",
       "    </tr>\n",
       "  </tbody>\n",
       "</table>\n",
       "</div>"
      ],
      "text/plain": [
       "           calories        protein  ...      is_harm2       is_harm\n",
       "count  2.465000e+04   24650.000000  ...  24650.000000  24650.000000\n",
       "mean   4.167728e+03      68.608099  ...      0.105801      0.463651\n",
       "std    2.886922e+05    3083.599909  ...      0.307589      0.498687\n",
       "min    0.000000e+00       0.000000  ...      0.000000      0.000000\n",
       "25%    1.500000e+02       3.000000  ...      0.000000      0.000000\n",
       "50%    2.770000e+02       8.000000  ...      0.000000      0.000000\n",
       "75%    4.750000e+02      22.180000  ...      0.000000      1.000000\n",
       "max    3.011122e+07  236489.000000  ...      1.000000      1.000000\n",
       "\n",
       "[8 rows x 8 columns]"
      ]
     },
     "metadata": {
      "tags": []
     },
     "output_type": "display_data"
    }
   ],
   "source": [
    "# Importing important libraries\n",
    "import numpy as np\n",
    "import pandas as pd\n",
    "from IPython.display import display\n",
    "import visuals as vs\n",
    "%matplotlib inline\n",
    "\n",
    "df = pd.read_excel('diabetes classifier data.xlsx') \n",
    "\n",
    "display(df.head())\n",
    "display(df.describe())\n"
   ]
  },
  {
   "cell_type": "markdown",
   "metadata": {
    "colab_type": "text",
    "id": "jyjoqxOBF6si"
   },
   "source": [
    "## Data visualization\n",
    "\n",
    "Here we visualize our features by \n",
    "- plotting a histogram for each one of them to visualize the distribution of the data, and we see that the data is skewed which will cause overfitting if we fed it to the classifier like this.\n",
    "- and also we plot a box-whisker plot to see if there were outliers or not, and as we see we have alot of outliers in our data which will weaken our classifier.\n",
    "\n",
    "In the next stages we will prepare and clean the data for the training process."
   ]
  },
  {
   "cell_type": "code",
   "execution_count": 111,
   "metadata": {
    "colab": {
     "base_uri": "https://localhost:8080/",
     "height": 1527
    },
    "colab_type": "code",
    "executionInfo": {
     "elapsed": 8231,
     "status": "ok",
     "timestamp": 1560987002546,
     "user": {
      "displayName": "Mahmoud Galal",
      "photoUrl": "https://lh3.googleusercontent.com/-YxcylynoizM/AAAAAAAAAAI/AAAAAAAAAAk/7Yz1NkZHuHA/s64/photo.jpg",
      "userId": "06347805963297415872"
     },
     "user_tz": -120
    },
    "id": "ZYzAZ9CMF6sj",
    "outputId": "a929d4b9-7fe4-44ea-9166-c11c85e35ddc"
   },
   "outputs": [
    {
     "data": {
      "image/png": "[encoded data removed]",
      "text/plain": [
       "<Figure size 1440x720 with 4 Axes>"
      ]
     },
     "metadata": {
      "tags": []
     },
     "output_type": "display_data"
    },
    {
     "data": {
      "image/png": "[encoded data removed]",
      "text/plain": [
       "<Figure size 1440x720 with 4 Axes>"
      ]
     },
     "metadata": {
      "tags": []
     },
     "output_type": "display_data"
    }
   ],
   "source": [
    "features = ['calories', 'protein', 'fat', 'carbs']\n",
    "\n",
    "vs.plot_histogram(df, features)\n",
    "vs.plot_box_plot(df, features)"
   ]
  },
  {
   "cell_type": "markdown",
   "metadata": {},
   "source": [
    "## Data preparation \n",
    "\n",
    "- Before data can be used as input for machine learning algorithms, it often must be cleaned, formatted, and restructured — this is typically known as preprocessing. \n",
    "- This preprocessing can help tremendously with the outcome and predictive power of nearly all learning algorithms."
   ]
  },
  {
   "cell_type": "markdown",
   "metadata": {
    "colab_type": "text",
    "id": "fnP_CBCCF6sp"
   },
   "source": [
    "## Removing outliers\n",
    "\n",
    "First step we remove the outliers to clean our data and reduce the propability of classifier misclassifications"
   ]
  },
  {
   "cell_type": "code",
   "execution_count": 112,
   "metadata": {
    "colab": {
     "base_uri": "https://localhost:8080/",
     "height": 1133
    },
    "colab_type": "code",
    "executionInfo": {
     "elapsed": 9774,
     "status": "ok",
     "timestamp": 1560987004124,
     "user": {
      "displayName": "Mahmoud Galal",
      "photoUrl": "https://lh3.googleusercontent.com/-YxcylynoizM/AAAAAAAAAAI/AAAAAAAAAAk/7Yz1NkZHuHA/s64/photo.jpg",
      "userId": "06347805963297415872"
     },
     "user_tz": -120
    },
    "id": "ggrGpxLaF6sq",
    "outputId": "b5c48840-75bd-40e9-a4ac-900173278f67",
    "scrolled": true
   },
   "outputs": [
    {
     "data": {
      "text/html": [
       "<div>\n",
       "<style scoped>\n",
       "    .dataframe tbody tr th:only-of-type {\n",
       "        vertical-align: middle;\n",
       "    }\n",
       "\n",
       "    .dataframe tbody tr th {\n",
       "        vertical-align: top;\n",
       "    }\n",
       "\n",
       "    .dataframe thead th {\n",
       "        text-align: right;\n",
       "    }\n",
       "</style>\n",
       "<table border=\"1\" class=\"dataframe\">\n",
       "  <thead>\n",
       "    <tr style=\"text-align: right;\">\n",
       "      <th></th>\n",
       "      <th>calories</th>\n",
       "      <th>protein</th>\n",
       "      <th>fat</th>\n",
       "      <th>sodium</th>\n",
       "      <th>carbs</th>\n",
       "      <th>is_harm1</th>\n",
       "      <th>is_harm2</th>\n",
       "      <th>is_harm</th>\n",
       "    </tr>\n",
       "  </thead>\n",
       "  <tbody>\n",
       "    <tr>\n",
       "      <th>count</th>\n",
       "      <td>24551.000000</td>\n",
       "      <td>24551.000000</td>\n",
       "      <td>24551.000000</td>\n",
       "      <td>24551.000000</td>\n",
       "      <td>24551.000000</td>\n",
       "      <td>24551.000000</td>\n",
       "      <td>24551.000000</td>\n",
       "      <td>24551.000000</td>\n",
       "    </tr>\n",
       "    <tr>\n",
       "      <th>mean</th>\n",
       "      <td>378.732312</td>\n",
       "      <td>17.051511</td>\n",
       "      <td>17.828513</td>\n",
       "      <td>0.548612</td>\n",
       "      <td>45.135359</td>\n",
       "      <td>0.342593</td>\n",
       "      <td>0.106228</td>\n",
       "      <td>0.461488</td>\n",
       "    </tr>\n",
       "    <tr>\n",
       "      <th>std</th>\n",
       "      <td>401.225789</td>\n",
       "      <td>28.371808</td>\n",
       "      <td>27.029452</td>\n",
       "      <td>2.361688</td>\n",
       "      <td>52.086072</td>\n",
       "      <td>0.474586</td>\n",
       "      <td>0.308135</td>\n",
       "      <td>0.498525</td>\n",
       "    </tr>\n",
       "    <tr>\n",
       "      <th>min</th>\n",
       "      <td>0.000000</td>\n",
       "      <td>0.000000</td>\n",
       "      <td>0.000000</td>\n",
       "      <td>0.000000</td>\n",
       "      <td>0.000000</td>\n",
       "      <td>0.000000</td>\n",
       "      <td>0.000000</td>\n",
       "      <td>0.000000</td>\n",
       "    </tr>\n",
       "    <tr>\n",
       "      <th>25%</th>\n",
       "      <td>150.000000</td>\n",
       "      <td>3.000000</td>\n",
       "      <td>1.365500</td>\n",
       "      <td>0.056000</td>\n",
       "      <td>11.875000</td>\n",
       "      <td>0.000000</td>\n",
       "      <td>0.000000</td>\n",
       "      <td>0.000000</td>\n",
       "    </tr>\n",
       "    <tr>\n",
       "      <th>50%</th>\n",
       "      <td>276.000000</td>\n",
       "      <td>8.000000</td>\n",
       "      <td>9.000000</td>\n",
       "      <td>0.228000</td>\n",
       "      <td>31.875000</td>\n",
       "      <td>0.000000</td>\n",
       "      <td>0.000000</td>\n",
       "      <td>0.000000</td>\n",
       "    </tr>\n",
       "    <tr>\n",
       "      <th>75%</th>\n",
       "      <td>472.000000</td>\n",
       "      <td>22.000000</td>\n",
       "      <td>23.000000</td>\n",
       "      <td>0.587000</td>\n",
       "      <td>63.295000</td>\n",
       "      <td>1.000000</td>\n",
       "      <td>0.000000</td>\n",
       "      <td>1.000000</td>\n",
       "    </tr>\n",
       "    <tr>\n",
       "      <th>max</th>\n",
       "      <td>6173.000000</td>\n",
       "      <td>898.000000</td>\n",
       "      <td>297.000000</td>\n",
       "      <td>132.220000</td>\n",
       "      <td>771.625000</td>\n",
       "      <td>1.000000</td>\n",
       "      <td>1.000000</td>\n",
       "      <td>1.000000</td>\n",
       "    </tr>\n",
       "  </tbody>\n",
       "</table>\n",
       "</div>"
      ],
      "text/plain": [
       "           calories       protein  ...      is_harm2       is_harm\n",
       "count  24551.000000  24551.000000  ...  24551.000000  24551.000000\n",
       "mean     378.732312     17.051511  ...      0.106228      0.461488\n",
       "std      401.225789     28.371808  ...      0.308135      0.498525\n",
       "min        0.000000      0.000000  ...      0.000000      0.000000\n",
       "25%      150.000000      3.000000  ...      0.000000      0.000000\n",
       "50%      276.000000      8.000000  ...      0.000000      0.000000\n",
       "75%      472.000000     22.000000  ...      0.000000      1.000000\n",
       "max     6173.000000    898.000000  ...      1.000000      1.000000\n",
       "\n",
       "[8 rows x 8 columns]"
      ]
     },
     "metadata": {
      "tags": []
     },
     "output_type": "display_data"
    },
    {
     "data": {
      "image/png": "[encoded data removed]",
      "text/plain": [
       "<Figure size 1440x720 with 3 Axes>"
      ]
     },
     "metadata": {
      "tags": []
     },
     "output_type": "display_data"
    },
    {
     "data": {
      "image/png": "[encoded data removed]",
      "text/plain": [
       "<Figure size 1440x720 with 3 Axes>"
      ]
     },
     "metadata": {
      "tags": []
     },
     "output_type": "display_data"
    }
   ],
   "source": [
    "features = ['calories', 'fat', 'carbs']\n",
    "\n",
    "df.drop(df[df['calories'] > 15000].index, inplace=True)\n",
    "df.drop(df[df['carbs'] > 800].index, inplace=True)\n",
    "df.drop(df[df['fat'] > 300].index, inplace=True)\n",
    "\n",
    "vs.plot_histogram(df, features)\n",
    "vs.plot_box_plot(df, features)\n",
    "display(df.describe())"
   ]
  },
  {
   "cell_type": "markdown",
   "metadata": {
    "colab_type": "text",
    "id": "LO_Z-S4IF6sv"
   },
   "source": [
    "## Data splitting\n",
    "\n",
    "As we saw in the previous step, the box plot got finner by reducing the outliers. Now we will clean the data even more by splitting the data into features and labels to proceed with the normalization and scaling processes,  also we print some information about our data."
   ]
  },
  {
   "cell_type": "code",
   "execution_count": 113,
   "metadata": {
    "colab": {
     "base_uri": "https://localhost:8080/",
     "height": 136
    },
    "colab_type": "code",
    "executionInfo": {
     "elapsed": 9754,
     "status": "ok",
     "timestamp": 1560987004127,
     "user": {
      "displayName": "Mahmoud Galal",
      "photoUrl": "https://lh3.googleusercontent.com/-YxcylynoizM/AAAAAAAAAAI/AAAAAAAAAAk/7Yz1NkZHuHA/s64/photo.jpg",
      "userId": "06347805963297415872"
     },
     "user_tz": -120
    },
    "id": "h8uOIWF9F6sw",
    "outputId": "296fe03e-a126-45a5-eede-9d7deb03ce41"
   },
   "outputs": [
    {
     "name": "stdout",
     "output_type": "stream",
     "text": [
      "We have 24551 records\n",
      "We have 11330 diabetes records\n",
      "We have 13221 healthy records\n",
      "The diabetic perentage is 46.15 %\n",
      "The healthy perentage is 53.85 %\n",
      "(24551, 3)\n",
      "(24551,)\n"
     ]
    }
   ],
   "source": [
    "X = df[['calories', 'carbs', 'fat']]\n",
    "Y = df['is_harm']\n",
    "\n",
    "all_records = df.shape[0]\n",
    "healthy_records = df[df['is_harm'] == 0].shape[0]\n",
    "diabetes_records = df[df['is_harm'] == 1].shape[0]\n",
    "\n",
    "print(\"We have {} records\".format(all_records))\n",
    "print(\"We have {} diabetes records\".format(diabetes_records))\n",
    "print(\"We have {} healthy records\".format(healthy_records))\n",
    "print(\"The diabetic perentage is {:.2f} %\".format(diabetes_records / all_records * 100))\n",
    "print(\"The healthy perentage is {:.2f} %\".format(healthy_records / all_records * 100))\n",
    "print(X.shape)\n",
    "print(Y.shape)"
   ]
  },
  {
   "cell_type": "markdown",
   "metadata": {
    "colab_type": "text",
    "id": "1ZH42sC9F6s1"
   },
   "source": [
    "## Features Transformation\n",
    "\n",
    "- A dataset may sometimes contain at least one feature whose values tend to lie near a single number, but will also have a non-trivial number of vastly larger or smaller values than that single number. Algorithms can be sensitive to such distributions of values and can underperform if the range is not properly normalized. \n",
    "\n",
    "- For highly-skewed feature distributions, it is common practice to apply a [logarithmic transformation](https://en.wikipedia.org/wiki/Data_transformation_(statistics)) on the data so that the very large and very small values do not negatively affect the performance of a learning algorithm. Using a logarithmic transformation significantly reduces the range of values caused by outliers. Care must be taken when applying this transformation however: The logarithm of 0 is undefined, so we must translate the values by a small amount above 0 to apply the the logarithm successfully."
   ]
  },
  {
   "cell_type": "code",
   "execution_count": 0,
   "metadata": {
    "colab": {},
    "colab_type": "code",
    "id": "ODYeIGnVF6s3"
   },
   "outputs": [],
   "source": [
    "transformed_x = pd.DataFrame(data=X)\n",
    "transformed_x = X.apply(lambda x: np.log(x + 1))"
   ]
  },
  {
   "cell_type": "markdown",
   "metadata": {
    "colab_type": "text",
    "id": "YiZ5-0h3F6s6"
   },
   "source": [
    "## Feature normalization (scaling)\n",
    "\n",
    "In addition to performing transformations on features that are highly skewed, it is often good practice to perform some type of scaling on numerical features. Applying a scaling to the data does not change the shape of each feature's distribution; however, normalization ensures that each feature is treated equally when applying supervised learners. Note that once scaling is applied, observing the data in its raw form will no longer have the same original meaning, as exampled below."
   ]
  },
  {
   "cell_type": "code",
   "execution_count": 0,
   "metadata": {
    "colab": {},
    "colab_type": "code",
    "id": "2huXGsHMF6s8"
   },
   "outputs": [],
   "source": [
    "from sklearn.preprocessing import MinMaxScaler\n",
    "import pickle\n",
    "\n",
    "features_log_minmax_transform = pd.DataFrame(data = transformed_x)\n",
    "\n",
    "sc = MinMaxScaler() # scale our data to make it robust to our model\n",
    "\n",
    "sc.fit(transformed_x)\n",
    " \n",
    "features_log_minmax_transform = sc.transform(transformed_x)\n",
    "\n",
    "with open('scaler.save', 'wb') as f:\n",
    "    pickle.dump(sc, f)"
   ]
  },
  {
   "cell_type": "code",
   "execution_count": 116,
   "metadata": {
    "colab": {
     "base_uri": "https://localhost:8080/",
     "height": 1040
    },
    "colab_type": "code",
    "executionInfo": {
     "elapsed": 11502,
     "status": "ok",
     "timestamp": 1560987005977,
     "user": {
      "displayName": "Mahmoud Galal",
      "photoUrl": "https://lh3.googleusercontent.com/-YxcylynoizM/AAAAAAAAAAI/AAAAAAAAAAk/7Yz1NkZHuHA/s64/photo.jpg",
      "userId": "06347805963297415872"
     },
     "user_tz": -120
    },
    "id": "1tDz1sUKF6tA",
    "outputId": "c04c2ffb-10b1-4354-d9dd-ae3ecd020bef"
   },
   "outputs": [
    {
     "data": {
      "text/html": [
       "<div>\n",
       "<style scoped>\n",
       "    .dataframe tbody tr th:only-of-type {\n",
       "        vertical-align: middle;\n",
       "    }\n",
       "\n",
       "    .dataframe tbody tr th {\n",
       "        vertical-align: top;\n",
       "    }\n",
       "\n",
       "    .dataframe thead th {\n",
       "        text-align: right;\n",
       "    }\n",
       "</style>\n",
       "<table border=\"1\" class=\"dataframe\">\n",
       "  <thead>\n",
       "    <tr style=\"text-align: right;\">\n",
       "      <th></th>\n",
       "      <th>calories</th>\n",
       "      <th>fat</th>\n",
       "      <th>carbs</th>\n",
       "    </tr>\n",
       "  </thead>\n",
       "  <tbody>\n",
       "    <tr>\n",
       "      <th>0</th>\n",
       "      <td>0.693941</td>\n",
       "      <td>0.600560</td>\n",
       "      <td>0.365000</td>\n",
       "    </tr>\n",
       "    <tr>\n",
       "      <th>1</th>\n",
       "      <td>0.589093</td>\n",
       "      <td>0.466532</td>\n",
       "      <td>0.420898</td>\n",
       "    </tr>\n",
       "    <tr>\n",
       "      <th>2</th>\n",
       "      <td>0.733483</td>\n",
       "      <td>0.651752</td>\n",
       "      <td>0.656066</td>\n",
       "    </tr>\n",
       "    <tr>\n",
       "      <th>3</th>\n",
       "      <td>0.635771</td>\n",
       "      <td>0.525807</td>\n",
       "      <td>0.314504</td>\n",
       "    </tr>\n",
       "    <tr>\n",
       "      <th>4</th>\n",
       "      <td>0.761046</td>\n",
       "      <td>0.687560</td>\n",
       "      <td>0.683124</td>\n",
       "    </tr>\n",
       "  </tbody>\n",
       "</table>\n",
       "</div>"
      ],
      "text/plain": [
       "   calories       fat     carbs\n",
       "0  0.693941  0.600560  0.365000\n",
       "1  0.589093  0.466532  0.420898\n",
       "2  0.733483  0.651752  0.656066\n",
       "3  0.635771  0.525807  0.314504\n",
       "4  0.761046  0.687560  0.683124"
      ]
     },
     "metadata": {
      "tags": []
     },
     "output_type": "display_data"
    },
    {
     "data": {
      "image/png": "[encoded data removed]",
      "text/plain": [
       "<Figure size 1440x720 with 3 Axes>"
      ]
     },
     "metadata": {
      "tags": []
     },
     "output_type": "display_data"
    },
    {
     "data": {
      "image/png": "[encoded data removed]",
      "text/plain": [
       "<Figure size 1440x720 with 3 Axes>"
      ]
     },
     "metadata": {
      "tags": []
     },
     "output_type": "display_data"
    }
   ],
   "source": [
    "features = ['calories', 'fat', 'carbs']\n",
    "X = pd.DataFrame(data=features_log_minmax_transform, columns=features)\n",
    "\n",
    "display(X.head())\n",
    "\n",
    "vs.plot_histogram(X, features, preprocessed = True)\n",
    "vs.plot_box_plot(X, features)"
   ]
  },
  {
   "cell_type": "markdown",
   "metadata": {
    "colab_type": "text",
    "id": "SovjL24SF6tH"
   },
   "source": [
    "## Shuffle and split data\n",
    "\n",
    "We prepare our features and labels for the training process, so we split the data into training and testing splits, and make 80% of our data as training data and the other 20% as testing data and then print the stats of the splits."
   ]
  },
  {
   "cell_type": "code",
   "execution_count": 1,
   "metadata": {
    "colab": {
     "base_uri": "https://localhost:8080/",
     "height": 238
    },
    "colab_type": "code",
    "executionInfo": {
     "elapsed": 11479,
     "status": "ok",
     "timestamp": 1560987005980,
     "user": {
      "displayName": "Mahmoud Galal",
      "photoUrl": "https://lh3.googleusercontent.com/-YxcylynoizM/AAAAAAAAAAI/AAAAAAAAAAk/7Yz1NkZHuHA/s64/photo.jpg",
      "userId": "06347805963297415872"
     },
     "user_tz": -120
    },
    "id": "mOA-jnHGF6tI",
    "outputId": "2f612f03-9a39-413a-8734-19eac8713f98"
   },
   "outputs": [
    {
     "ename": "NameError",
     "evalue": "name 'X' is not defined",
     "output_type": "error",
     "traceback": [
      "\u001b[1;31m---------------------------------------------------------------------------\u001b[0m",
      "\u001b[1;31mNameError\u001b[0m                                 Traceback (most recent call last)",
      "\u001b[1;32m<ipython-input-1-ffa50e277974>\u001b[0m in \u001b[0;36m<module>\u001b[1;34m\u001b[0m\n\u001b[0;32m      1\u001b[0m \u001b[1;32mfrom\u001b[0m \u001b[0msklearn\u001b[0m \u001b[1;32mimport\u001b[0m \u001b[0mmodel_selection\u001b[0m\u001b[1;33m\u001b[0m\u001b[1;33m\u001b[0m\u001b[0m\n\u001b[0;32m      2\u001b[0m \u001b[1;33m\u001b[0m\u001b[0m\n\u001b[1;32m----> 3\u001b[1;33m \u001b[0mX_train\u001b[0m\u001b[1;33m,\u001b[0m \u001b[0mX_test\u001b[0m\u001b[1;33m,\u001b[0m \u001b[0my_train\u001b[0m\u001b[1;33m,\u001b[0m \u001b[0my_test\u001b[0m \u001b[1;33m=\u001b[0m \u001b[0mmodel_selection\u001b[0m\u001b[1;33m.\u001b[0m\u001b[0mtrain_test_split\u001b[0m\u001b[1;33m(\u001b[0m\u001b[0mX\u001b[0m\u001b[1;33m,\u001b[0m \u001b[0mY\u001b[0m\u001b[1;33m,\u001b[0m \u001b[0mtest_size\u001b[0m\u001b[1;33m=\u001b[0m\u001b[1;36m0.2\u001b[0m\u001b[1;33m,\u001b[0m \u001b[0mrandom_state\u001b[0m\u001b[1;33m=\u001b[0m\u001b[1;36m7\u001b[0m\u001b[1;33m)\u001b[0m\u001b[1;33m\u001b[0m\u001b[1;33m\u001b[0m\u001b[0m\n\u001b[0m\u001b[0;32m      4\u001b[0m \u001b[1;33m\u001b[0m\u001b[0m\n\u001b[0;32m      5\u001b[0m \u001b[0mdisplay\u001b[0m\u001b[1;33m(\u001b[0m\u001b[0mX_train\u001b[0m\u001b[1;33m.\u001b[0m\u001b[0mhead\u001b[0m\u001b[1;33m(\u001b[0m\u001b[1;33m)\u001b[0m\u001b[1;33m)\u001b[0m\u001b[1;33m\u001b[0m\u001b[1;33m\u001b[0m\u001b[0m\n",
      "\u001b[1;31mNameError\u001b[0m: name 'X' is not defined"
     ]
    }
   ],
   "source": [
    "from sklearn import model_selection\n",
    "\n",
    "X_train, X_test, y_train, y_test = model_selection.train_test_split(X, Y, test_size=0.2, random_state=7)    \n",
    "\n",
    "display(X_train.head())\n",
    "print(\"Training set has {} samples.\".format(X_train.shape[0]))\n",
    "print(\"Testing set has {} samples.\".format(X_test.shape[0]))"
   ]
  },
  {
   "cell_type": "markdown",
   "metadata": {
    "colab_type": "text",
    "id": "MfP_RWggF6tR"
   },
   "source": [
    "## Model Selection\n",
    "\n",
    "In this section, we will investigate four different algorithms, and determine which is best at modeling the data.\n",
    "we will compare between SVM and gradient boosting"
   ]
  },
  {
   "cell_type": "code",
   "execution_count": 0,
   "metadata": {
    "colab": {},
    "colab_type": "code",
    "id": "x2TfEi67F6tS"
   },
   "outputs": [],
   "source": [
    "# Here we try some of the algorithms that i think is the most powerful candidates to our problem\n",
    "from sklearn.svm import SVC\n",
    "from sklearn.ensemble  import GradientBoostingClassifier\n",
    "\n",
    "\n",
    "clf_A = SVC(kernel = 'linear', random_state = 5)\n",
    "clf_B = GradientBoostingClassifier(random_state=70)\n",
    "\n",
    "clf_A.fit(X_train, y_train)\n",
    "clf_B.fit(X_train, y_train)\n",
    "\n",
    "\n",
    "y_pred_A = clf_A.predict(X_test)\n",
    "y_pred_B = clf_B.predict(X_test)"
   ]
  },
  {
   "attachments": {
    "image.png": {
     "image/png": "[encoded data removed]"
    }
   },
   "cell_type": "markdown",
   "metadata": {
    "colab_type": "text",
    "id": "abfVNQaEF6tW"
   },
   "source": [
    "## Models evaluation \n",
    "\n",
    "In this section, we will investigate four different algorithms, and determine which is best at modeling the data.\n",
    "\n",
    "### Metrics and the Naive Predictor\n",
    " We can use F-beta score as a metric that considers both precision and recall:\n",
    "\n",
    "![image.png](attachment:image.png) \n",
    "\n",
    "In particular, when  β=0.7 , more emphasis is placed on recall. This is called the F 0.7  score (or F-beta score for simplicity).\n",
    "\n",
    "#### Note: Recap of accuracy, precision, recall\n",
    "Accuracy measures how often the classifier makes the correct prediction. It’s the ratio of the number of correct predictions to the total number of predictions (the number of test data points).\n",
    "\n",
    "Precision tells us what proportion of messages we classified as spam, actually were spam. It is a ratio of true positives(words classified as spam, and which are actually spam) to all positives(all words classified as spam, irrespective of whether that was the correct classificatio), in other words it is the ratio of\n",
    "\n",
    "[True Positives/(True Positives + False Positives)]\n",
    "\n",
    "Recall(sensitivity) tells us what proportion of messages that actually were spam were classified by us as spam. It is a ratio of true positives(words classified as spam, and which are actually spam) to all the words that were actually spam, in other words it is the ratio of\n",
    "\n",
    "[True Positives/(True Positives + False Negatives)]"
   ]
  },
  {
   "cell_type": "code",
   "execution_count": 119,
   "metadata": {
    "colab": {
     "base_uri": "https://localhost:8080/",
     "height": 68
    },
    "colab_type": "code",
    "executionInfo": {
     "elapsed": 12535,
     "status": "ok",
     "timestamp": 1560987007062,
     "user": {
      "displayName": "Mahmoud Galal",
      "photoUrl": "https://lh3.googleusercontent.com/-YxcylynoizM/AAAAAAAAAAI/AAAAAAAAAAk/7Yz1NkZHuHA/s64/photo.jpg",
      "userId": "06347805963297415872"
     },
     "user_tz": -120
    },
    "id": "oPmQwdgxF6tX",
    "outputId": "1e1e3e75-4965-4724-ff06-ab4965e0fe4c"
   },
   "outputs": [
    {
     "name": "stdout",
     "output_type": "stream",
     "text": [
      "svm fbeta score  99.49908953051442\n",
      "----------------------------------------------------\n",
      "Gradient Boosting fbeta score  100.0\n"
     ]
    }
   ],
   "source": [
    "# Here we print the results of each one\n",
    "\n",
    "from sklearn.metrics import fbeta_score\n",
    "\n",
    "A_fbeta_score = fbeta_score(y_test, y_pred_A, beta=0.7)\n",
    "\n",
    "B_fbeta_score = fbeta_score(y_test, y_pred_B, beta=0.7)\n",
    "\n",
    "\n",
    "print (\"svm fbeta score \", A_fbeta_score*100)\n",
    "print(\"----------------------------------------------------\")\n",
    "print (\"Gradient Boosting fbeta score \",B_fbeta_score * 100)"
   ]
  },
  {
   "cell_type": "markdown",
   "metadata": {
    "colab_type": "text",
    "id": "B_P4M-KkF6td"
   },
   "source": [
    "## Choosing the best model\n",
    "\n",
    "I think that gradient boosting is very powerful to our small data, so i think that we should use SVM, and with some hyper parameter tuning we can get a very good results.\n",
    "\n",
    "Implementation: Model Tuning\n",
    "Fine tune the chosen model. Use grid search (GridSearchCV) with at least one important parameter tuned with at least 3 different values. We will need to use the entire training set for this."
   ]
  },
  {
   "cell_type": "code",
   "execution_count": 0,
   "metadata": {
    "colab": {},
    "colab_type": "code",
    "id": "Nl8LbUJRF6te"
   },
   "outputs": [],
   "source": [
    "from sklearn.model_selection import GridSearchCV\n",
    "from sklearn.metrics import confusion_matrix, make_scorer, r2_score, fbeta_score\n",
    "from sklearn.model_selection import ShuffleSplit\n",
    "\n",
    "\n",
    "def grid_search(clf, parameters, X_train, y_train):\n",
    "    cv_sets = ShuffleSplit(n_splits=3,test_size=0.2) # define the cross validation function\n",
    "    scorer = make_scorer(fbeta_score, beta=0.7) # Define the scorer function \n",
    "    grid_obj = GridSearchCV(clf, parameters, scoring=scorer, cv=cv_sets) # Initilize the grid object\n",
    "    grid_fit = grid_obj.fit(X_train, y_train) # train the grid object\n",
    "    return grid_fit.best_estimator_  # Obtaining the best classifier"
   ]
  },
  {
   "cell_type": "code",
   "execution_count": 0,
   "metadata": {
    "colab": {},
    "colab_type": "code",
    "id": "RuccXtA4F6th"
   },
   "outputs": [],
   "source": [
    "#Here i have chossen gradient boosting as the best algorithm and i use grid search to return the best estimator\n",
    "\n",
    "# clf = GradientBoostingClassifier(random_state=42) # Initialize the classifer\n",
    "\n",
    "# parameters = {'n_estimators': [5, 10, 20, 30, 40, 50, 100],\n",
    "#               'learning_rate': [0.001, 0.01, 0.1, 1, 1.5]\n",
    "#              } # Choosing the set of parameters\n",
    "\n",
    "\n",
    "clf1 = SVC(kernel='poly', random_state = 7)\n",
    "\n",
    "parameters1 = {\n",
    "              'degree': [2, 3],\n",
    "              'C': [0.001, 0.01, 0.1]} \n",
    "\n",
    "\n",
    "best_clf1 = grid_search(clf1, parameters1, X_train, y_train)\n",
    "\n",
    "best_clf1.fit(X_train, y_train) # Training the new (best)classifier\n",
    "best_predictions = best_clf1.predict(X_test) # Predicting resulsts \n"
   ]
  },
  {
   "cell_type": "code",
   "execution_count": 122,
   "metadata": {
    "colab": {
     "base_uri": "https://localhost:8080/",
     "height": 190
    },
    "colab_type": "code",
    "executionInfo": {
     "elapsed": 105684,
     "status": "ok",
     "timestamp": 1560987100250,
     "user": {
      "displayName": "Mahmoud Galal",
      "photoUrl": "https://lh3.googleusercontent.com/-YxcylynoizM/AAAAAAAAAAI/AAAAAAAAAAk/7Yz1NkZHuHA/s64/photo.jpg",
      "userId": "06347805963297415872"
     },
     "user_tz": -120
    },
    "id": "EAofIxSeKlM2",
    "outputId": "6c42fbac-97ec-402c-dda3-c3bda5a6fd3d"
   },
   "outputs": [
    {
     "name": "stdout",
     "output_type": "stream",
     "text": [
      "Best parameter values is {'C': 0.1, 'cache_size': 200, 'class_weight': None, 'coef0': 0.0, 'decision_function_shape': 'ovr', 'degree': 2, 'gamma': 'auto', 'kernel': 'poly', 'max_iter': -1, 'probability': False, 'random_state': 7, 'shrinking': True, 'tol': 0.001, 'verbose': False}\n",
      "\n",
      " Unoptimized model\n",
      "------\n",
      "Fbeta-score on testing data: 0.9950\n",
      "\n",
      "Optimized Model\n",
      "------\n",
      "Final Fbeta-score on the testing data: 0.9603\n"
     ]
    }
   ],
   "source": [
    "print(\"Best parameter values is\", best_clf1.get_params())\n",
    "\n",
    "print (\"\\n Unoptimized model\\n------\")\n",
    "print (\"Fbeta-score on testing data: {:.4f}\".format(A_fbeta_score))\n",
    "print (\"\\nOptimized Model\\n------\")\n",
    "print (\"Final Fbeta-score on the testing data: {:.4f}\".format(fbeta_score(y_test, best_predictions, beta = 0.7)))"
   ]
  },
  {
   "cell_type": "code",
   "execution_count": 123,
   "metadata": {
    "colab": {
     "base_uri": "https://localhost:8080/",
     "height": 416
    },
    "colab_type": "code",
    "executionInfo": {
     "elapsed": 105669,
     "status": "ok",
     "timestamp": 1560987100251,
     "user": {
      "displayName": "Mahmoud Galal",
      "photoUrl": "https://lh3.googleusercontent.com/-YxcylynoizM/AAAAAAAAAAI/AAAAAAAAAAk/7Yz1NkZHuHA/s64/photo.jpg",
      "userId": "06347805963297415872"
     },
     "user_tz": -120
    },
    "id": "dpIAA78mF6tl",
    "outputId": "569d8b71-0d82-4a00-ed79-960c4c86d8c1"
   },
   "outputs": [
    {
     "name": "stdout",
     "output_type": "stream",
     "text": [
      "SVC(C=0.1, cache_size=200, class_weight=None, coef0=0.0,\n",
      "  decision_function_shape='ovr', degree=2, gamma='auto', kernel='poly',\n",
      "  max_iter=-1, probability=False, random_state=7, shrinking=True,\n",
      "  tol=0.001, verbose=False)\n",
      "Normalized confusion matrix\n",
      "[[0.96166605 0.03833395]\n",
      " [0.02593267 0.97406733]]\n"
     ]
    },
    {
     "data": {
      "image/png": "[encoded data removed]",
      "text/plain": [
       "<Figure size 432x288 with 2 Axes>"
      ]
     },
     "metadata": {
      "tags": []
     },
     "output_type": "display_data"
    }
   ],
   "source": [
    "print(best_clf1)\n",
    "my_conf_matrix = confusion_matrix(y_test, best_predictions) # Calculating the confussion matrix\n",
    "vs.plot_confusion_matrix(my_conf_matrix, classes=['Positive', 'Negtive'], normalize=True, title=\"Gradient boosting confusion matrix\")"
   ]
  },
  {
   "cell_type": "code",
   "execution_count": 124,
   "metadata": {
    "colab": {
     "base_uri": "https://localhost:8080/",
     "height": 1873
    },
    "colab_type": "code",
    "executionInfo": {
     "elapsed": 635015,
     "status": "ok",
     "timestamp": 1560987629620,
     "user": {
      "displayName": "Mahmoud Galal",
      "photoUrl": "https://lh3.googleusercontent.com/-YxcylynoizM/AAAAAAAAAAI/AAAAAAAAAAk/7Yz1NkZHuHA/s64/photo.jpg",
      "userId": "06347805963297415872"
     },
     "user_tz": -120
    },
    "id": "FT7gRX7AF6tp",
    "outputId": "bb75d57a-7116-4f54-aae6-6f437b0fc391"
   },
   "outputs": [
    {
     "name": "stderr",
     "output_type": "stream",
     "text": [
      "/usr/local/lib/python3.6/dist-packages/sklearn/metrics/classification.py:1135: UndefinedMetricWarning: F-score is ill-defined and being set to 0.0 due to no predicted samples.\n",
      "  'precision', 'predicted', average, warn_for)\n",
      "/usr/local/lib/python3.6/dist-packages/sklearn/metrics/classification.py:1135: UndefinedMetricWarning: F-score is ill-defined and being set to 0.0 due to no predicted samples.\n",
      "  'precision', 'predicted', average, warn_for)\n",
      "/usr/local/lib/python3.6/dist-packages/sklearn/metrics/classification.py:1135: UndefinedMetricWarning: F-score is ill-defined and being set to 0.0 due to no predicted samples.\n",
      "  'precision', 'predicted', average, warn_for)\n",
      "/usr/local/lib/python3.6/dist-packages/sklearn/metrics/classification.py:1135: UndefinedMetricWarning: F-score is ill-defined and being set to 0.0 due to no predicted samples.\n",
      "  'precision', 'predicted', average, warn_for)\n",
      "/usr/local/lib/python3.6/dist-packages/sklearn/metrics/classification.py:1135: UndefinedMetricWarning: F-score is ill-defined and being set to 0.0 due to no predicted samples.\n",
      "  'precision', 'predicted', average, warn_for)\n",
      "/usr/local/lib/python3.6/dist-packages/sklearn/metrics/classification.py:1135: UndefinedMetricWarning: F-score is ill-defined and being set to 0.0 due to no predicted samples.\n",
      "  'precision', 'predicted', average, warn_for)\n",
      "/usr/local/lib/python3.6/dist-packages/sklearn/metrics/classification.py:1135: UndefinedMetricWarning: F-score is ill-defined and being set to 0.0 due to no predicted samples.\n",
      "  'precision', 'predicted', average, warn_for)\n",
      "/usr/local/lib/python3.6/dist-packages/sklearn/metrics/classification.py:1135: UndefinedMetricWarning: F-score is ill-defined and being set to 0.0 due to no predicted samples.\n",
      "  'precision', 'predicted', average, warn_for)\n",
      "/usr/local/lib/python3.6/dist-packages/sklearn/metrics/classification.py:1135: UndefinedMetricWarning: F-score is ill-defined and being set to 0.0 due to no predicted samples.\n",
      "  'precision', 'predicted', average, warn_for)\n",
      "/usr/local/lib/python3.6/dist-packages/sklearn/metrics/classification.py:1135: UndefinedMetricWarning: F-score is ill-defined and being set to 0.0 due to no predicted samples.\n",
      "  'precision', 'predicted', average, warn_for)\n",
      "/usr/local/lib/python3.6/dist-packages/sklearn/metrics/classification.py:1135: UndefinedMetricWarning: F-score is ill-defined and being set to 0.0 due to no predicted samples.\n",
      "  'precision', 'predicted', average, warn_for)\n",
      "/usr/local/lib/python3.6/dist-packages/sklearn/metrics/classification.py:1135: UndefinedMetricWarning: F-score is ill-defined and being set to 0.0 due to no predicted samples.\n",
      "  'precision', 'predicted', average, warn_for)\n",
      "/usr/local/lib/python3.6/dist-packages/sklearn/metrics/classification.py:1135: UndefinedMetricWarning: F-score is ill-defined and being set to 0.0 due to no predicted samples.\n",
      "  'precision', 'predicted', average, warn_for)\n",
      "/usr/local/lib/python3.6/dist-packages/sklearn/metrics/classification.py:1135: UndefinedMetricWarning: F-score is ill-defined and being set to 0.0 due to no predicted samples.\n",
      "  'precision', 'predicted', average, warn_for)\n",
      "/usr/local/lib/python3.6/dist-packages/sklearn/metrics/classification.py:1135: UndefinedMetricWarning: F-score is ill-defined and being set to 0.0 due to no predicted samples.\n",
      "  'precision', 'predicted', average, warn_for)\n",
      "/usr/local/lib/python3.6/dist-packages/sklearn/metrics/classification.py:1135: UndefinedMetricWarning: F-score is ill-defined and being set to 0.0 due to no predicted samples.\n",
      "  'precision', 'predicted', average, warn_for)\n",
      "/usr/local/lib/python3.6/dist-packages/sklearn/metrics/classification.py:1135: UndefinedMetricWarning: F-score is ill-defined and being set to 0.0 due to no predicted samples.\n",
      "  'precision', 'predicted', average, warn_for)\n",
      "/usr/local/lib/python3.6/dist-packages/sklearn/metrics/classification.py:1135: UndefinedMetricWarning: F-score is ill-defined and being set to 0.0 due to no predicted samples.\n",
      "  'precision', 'predicted', average, warn_for)\n",
      "/usr/local/lib/python3.6/dist-packages/sklearn/metrics/classification.py:1135: UndefinedMetricWarning: F-score is ill-defined and being set to 0.0 due to no predicted samples.\n",
      "  'precision', 'predicted', average, warn_for)\n",
      "/usr/local/lib/python3.6/dist-packages/sklearn/metrics/classification.py:1135: UndefinedMetricWarning: F-score is ill-defined and being set to 0.0 due to no predicted samples.\n",
      "  'precision', 'predicted', average, warn_for)\n",
      "/usr/local/lib/python3.6/dist-packages/sklearn/metrics/classification.py:1135: UndefinedMetricWarning: F-score is ill-defined and being set to 0.0 due to no predicted samples.\n",
      "  'precision', 'predicted', average, warn_for)\n",
      "/usr/local/lib/python3.6/dist-packages/sklearn/metrics/classification.py:1135: UndefinedMetricWarning: F-score is ill-defined and being set to 0.0 due to no predicted samples.\n",
      "  'precision', 'predicted', average, warn_for)\n",
      "/usr/local/lib/python3.6/dist-packages/sklearn/metrics/classification.py:1135: UndefinedMetricWarning: F-score is ill-defined and being set to 0.0 due to no predicted samples.\n",
      "  'precision', 'predicted', average, warn_for)\n",
      "/usr/local/lib/python3.6/dist-packages/sklearn/metrics/classification.py:1135: UndefinedMetricWarning: F-score is ill-defined and being set to 0.0 due to no predicted samples.\n",
      "  'precision', 'predicted', average, warn_for)\n",
      "/usr/local/lib/python3.6/dist-packages/sklearn/metrics/classification.py:1135: UndefinedMetricWarning: F-score is ill-defined and being set to 0.0 due to no predicted samples.\n",
      "  'precision', 'predicted', average, warn_for)\n",
      "/usr/local/lib/python3.6/dist-packages/sklearn/metrics/classification.py:1135: UndefinedMetricWarning: F-score is ill-defined and being set to 0.0 due to no predicted samples.\n",
      "  'precision', 'predicted', average, warn_for)\n",
      "/usr/local/lib/python3.6/dist-packages/sklearn/metrics/classification.py:1135: UndefinedMetricWarning: F-score is ill-defined and being set to 0.0 due to no predicted samples.\n",
      "  'precision', 'predicted', average, warn_for)\n",
      "/usr/local/lib/python3.6/dist-packages/sklearn/metrics/classification.py:1135: UndefinedMetricWarning: F-score is ill-defined and being set to 0.0 due to no predicted samples.\n",
      "  'precision', 'predicted', average, warn_for)\n",
      "/usr/local/lib/python3.6/dist-packages/sklearn/metrics/classification.py:1135: UndefinedMetricWarning: F-score is ill-defined and being set to 0.0 due to no predicted samples.\n",
      "  'precision', 'predicted', average, warn_for)\n",
      "/usr/local/lib/python3.6/dist-packages/sklearn/metrics/classification.py:1135: UndefinedMetricWarning: F-score is ill-defined and being set to 0.0 due to no predicted samples.\n",
      "  'precision', 'predicted', average, warn_for)\n",
      "/usr/local/lib/python3.6/dist-packages/sklearn/metrics/classification.py:1135: UndefinedMetricWarning: F-score is ill-defined and being set to 0.0 due to no predicted samples.\n",
      "  'precision', 'predicted', average, warn_for)\n",
      "/usr/local/lib/python3.6/dist-packages/sklearn/metrics/classification.py:1135: UndefinedMetricWarning: F-score is ill-defined and being set to 0.0 due to no predicted samples.\n",
      "  'precision', 'predicted', average, warn_for)\n",
      "/usr/local/lib/python3.6/dist-packages/sklearn/metrics/classification.py:1135: UndefinedMetricWarning: F-score is ill-defined and being set to 0.0 due to no predicted samples.\n",
      "  'precision', 'predicted', average, warn_for)\n",
      "/usr/local/lib/python3.6/dist-packages/sklearn/metrics/classification.py:1135: UndefinedMetricWarning: F-score is ill-defined and being set to 0.0 due to no predicted samples.\n",
      "  'precision', 'predicted', average, warn_for)\n",
      "/usr/local/lib/python3.6/dist-packages/sklearn/metrics/classification.py:1135: UndefinedMetricWarning: F-score is ill-defined and being set to 0.0 due to no predicted samples.\n",
      "  'precision', 'predicted', average, warn_for)\n",
      "/usr/local/lib/python3.6/dist-packages/sklearn/metrics/classification.py:1135: UndefinedMetricWarning: F-score is ill-defined and being set to 0.0 due to no predicted samples.\n",
      "  'precision', 'predicted', average, warn_for)\n",
      "/usr/local/lib/python3.6/dist-packages/sklearn/metrics/classification.py:1135: UndefinedMetricWarning: F-score is ill-defined and being set to 0.0 due to no predicted samples.\n",
      "  'precision', 'predicted', average, warn_for)\n",
      "/usr/local/lib/python3.6/dist-packages/sklearn/metrics/classification.py:1135: UndefinedMetricWarning: F-score is ill-defined and being set to 0.0 due to no predicted samples.\n",
      "  'precision', 'predicted', average, warn_for)\n",
      "/usr/local/lib/python3.6/dist-packages/sklearn/metrics/classification.py:1135: UndefinedMetricWarning: F-score is ill-defined and being set to 0.0 due to no predicted samples.\n",
      "  'precision', 'predicted', average, warn_for)\n",
      "/usr/local/lib/python3.6/dist-packages/sklearn/metrics/classification.py:1135: UndefinedMetricWarning: F-score is ill-defined and being set to 0.0 due to no predicted samples.\n",
      "  'precision', 'predicted', average, warn_for)\n",
      "/usr/local/lib/python3.6/dist-packages/sklearn/metrics/classification.py:1135: UndefinedMetricWarning: F-score is ill-defined and being set to 0.0 due to no predicted samples.\n",
      "  'precision', 'predicted', average, warn_for)\n",
      "/usr/local/lib/python3.6/dist-packages/sklearn/metrics/classification.py:1135: UndefinedMetricWarning: F-score is ill-defined and being set to 0.0 due to no predicted samples.\n",
      "  'precision', 'predicted', average, warn_for)\n",
      "/usr/local/lib/python3.6/dist-packages/sklearn/metrics/classification.py:1135: UndefinedMetricWarning: F-score is ill-defined and being set to 0.0 due to no predicted samples.\n",
      "  'precision', 'predicted', average, warn_for)\n",
      "/usr/local/lib/python3.6/dist-packages/sklearn/metrics/classification.py:1135: UndefinedMetricWarning: F-score is ill-defined and being set to 0.0 due to no predicted samples.\n",
      "  'precision', 'predicted', average, warn_for)\n",
      "/usr/local/lib/python3.6/dist-packages/sklearn/metrics/classification.py:1135: UndefinedMetricWarning: F-score is ill-defined and being set to 0.0 due to no predicted samples.\n",
      "  'precision', 'predicted', average, warn_for)\n",
      "/usr/local/lib/python3.6/dist-packages/sklearn/metrics/classification.py:1135: UndefinedMetricWarning: F-score is ill-defined and being set to 0.0 due to no predicted samples.\n",
      "  'precision', 'predicted', average, warn_for)\n",
      "/usr/local/lib/python3.6/dist-packages/sklearn/metrics/classification.py:1135: UndefinedMetricWarning: F-score is ill-defined and being set to 0.0 due to no predicted samples.\n",
      "  'precision', 'predicted', average, warn_for)\n",
      "/usr/local/lib/python3.6/dist-packages/sklearn/metrics/classification.py:1135: UndefinedMetricWarning: F-score is ill-defined and being set to 0.0 due to no predicted samples.\n",
      "  'precision', 'predicted', average, warn_for)\n",
      "/usr/local/lib/python3.6/dist-packages/sklearn/metrics/classification.py:1135: UndefinedMetricWarning: F-score is ill-defined and being set to 0.0 due to no predicted samples.\n",
      "  'precision', 'predicted', average, warn_for)\n",
      "/usr/local/lib/python3.6/dist-packages/sklearn/metrics/classification.py:1135: UndefinedMetricWarning: F-score is ill-defined and being set to 0.0 due to no predicted samples.\n",
      "  'precision', 'predicted', average, warn_for)\n",
      "/usr/local/lib/python3.6/dist-packages/sklearn/metrics/classification.py:1135: UndefinedMetricWarning: F-score is ill-defined and being set to 0.0 due to no predicted samples.\n",
      "  'precision', 'predicted', average, warn_for)\n",
      "/usr/local/lib/python3.6/dist-packages/sklearn/metrics/classification.py:1135: UndefinedMetricWarning: F-score is ill-defined and being set to 0.0 due to no predicted samples.\n",
      "  'precision', 'predicted', average, warn_for)\n",
      "/usr/local/lib/python3.6/dist-packages/sklearn/metrics/classification.py:1135: UndefinedMetricWarning: F-score is ill-defined and being set to 0.0 due to no predicted samples.\n",
      "  'precision', 'predicted', average, warn_for)\n",
      "/usr/local/lib/python3.6/dist-packages/sklearn/metrics/classification.py:1135: UndefinedMetricWarning: F-score is ill-defined and being set to 0.0 due to no predicted samples.\n",
      "  'precision', 'predicted', average, warn_for)\n"
     ]
    }
   ],
   "source": [
    "\n",
    "from sklearn.model_selection import GridSearchCV\n",
    "from sklearn.metrics import confusion_matrix, make_scorer, r2_score, fbeta_score\n",
    "from sklearn.model_selection import ShuffleSplit\n",
    "\n",
    "clf2 = SVC(kernel='rbf', random_state = 5)\n",
    "\n",
    "parameters2 = {\n",
    "              'gamma': [0.0001, 0.001, 0.01, 0.1],\n",
    "              'C': [0.001, 0.01, 0.1]} \n",
    "\n",
    "best_clf2 = grid_search(clf2, parameters2, X_train, y_train)\n",
    "\n",
    "best_clf2.fit(X_train, y_train) # Training the new (best)classifier\n",
    "best_predictions = best_clf2.predict(X_test) # Predicting resulsts "
   ]
  },
  {
   "cell_type": "code",
   "execution_count": 125,
   "metadata": {
    "colab": {
     "base_uri": "https://localhost:8080/",
     "height": 207
    },
    "colab_type": "code",
    "executionInfo": {
     "elapsed": 637883,
     "status": "ok",
     "timestamp": 1560987632509,
     "user": {
      "displayName": "Mahmoud Galal",
      "photoUrl": "https://lh3.googleusercontent.com/-YxcylynoizM/AAAAAAAAAAI/AAAAAAAAAAk/7Yz1NkZHuHA/s64/photo.jpg",
      "userId": "06347805963297415872"
     },
     "user_tz": -120
    },
    "id": "aivbn2MsKw6l",
    "outputId": "aa27023b-aa0f-4a67-eece-613d95230b50"
   },
   "outputs": [
    {
     "name": "stdout",
     "output_type": "stream",
     "text": [
      "Best parameter values is {'C': 0.1, 'cache_size': 200, 'class_weight': None, 'coef0': 0.0, 'decision_function_shape': 'ovr', 'degree': 3, 'gamma': 0.1, 'kernel': 'rbf', 'max_iter': -1, 'probability': False, 'random_state': 5, 'shrinking': True, 'tol': 0.001, 'verbose': False}\n",
      "\n",
      " Unoptimized model\n",
      "------\n",
      "Fbeta-score on training data: 0.9567\n",
      "Fbeta-score on testing data: 0.9950\n",
      "\n",
      "Optimized Model\n",
      "------\n",
      "Final Fbeta-score on the testing data: 0.9539\n"
     ]
    }
   ],
   "source": [
    "train_score = fbeta_score(y_train, best_clf2.predict(X_train), beta = 0.7)\n",
    "\n",
    "print(\"Best parameter values is\", best_clf2.get_params())\n",
    "\n",
    "print (\"\\n Unoptimized model\\n------\")\n",
    "print (\"Fbeta-score on training data: {:.4f}\".format(train_score))\n",
    "print (\"Fbeta-score on testing data: {:.4f}\".format(A_fbeta_score))\n",
    "print (\"\\nOptimized Model\\n------\")\n",
    "print (\"Final Fbeta-score on the testing data: {:.4f}\".format(fbeta_score(y_test, best_predictions, beta = 0.7)))"
   ]
  },
  {
   "cell_type": "code",
   "execution_count": 126,
   "metadata": {
    "colab": {
     "base_uri": "https://localhost:8080/",
     "height": 416
    },
    "colab_type": "code",
    "executionInfo": {
     "elapsed": 637868,
     "status": "ok",
     "timestamp": 1560987632512,
     "user": {
      "displayName": "Mahmoud Galal",
      "photoUrl": "https://lh3.googleusercontent.com/-YxcylynoizM/AAAAAAAAAAI/AAAAAAAAAAk/7Yz1NkZHuHA/s64/photo.jpg",
      "userId": "06347805963297415872"
     },
     "user_tz": -120
    },
    "id": "4Y0CedVcF6tw",
    "outputId": "ac9d0fd0-23a9-4469-b0f8-8148598c3f62"
   },
   "outputs": [
    {
     "name": "stdout",
     "output_type": "stream",
     "text": [
      "SVC(C=0.1, cache_size=200, class_weight=None, coef0=0.0,\n",
      "  decision_function_shape='ovr', degree=3, gamma=0.1, kernel='rbf',\n",
      "  max_iter=-1, probability=False, random_state=5, shrinking=True,\n",
      "  tol=0.001, verbose=False)\n",
      "Normalized confusion matrix\n",
      "[[0.9487652  0.0512348 ]\n",
      " [0.01546861 0.98453139]]\n"
     ]
    },
    {
     "data": {
      "image/png": "[encoded data removed]",
      "text/plain": [
       "<Figure size 432x288 with 2 Axes>"
      ]
     },
     "metadata": {
      "tags": []
     },
     "output_type": "display_data"
    }
   ],
   "source": [
    "print(best_clf2)\n",
    "my_conf_matrix = confusion_matrix(y_test, best_predictions) # Calculating the confussion matrix\n",
    "vs.plot_confusion_matrix(my_conf_matrix, classes=['Positive', 'Negtive'], normalize=True, title=\"Gradient boosting confusion matrix\")"
   ]
  },
  {
   "cell_type": "code",
   "execution_count": 0,
   "metadata": {
    "colab": {},
    "colab_type": "code",
    "id": "fLwm1w-n8Ey3"
   },
   "outputs": [],
   "source": [
    "\n",
    "clf1 = SVC(kernel='linear', random_state = 7)\n",
    "\n",
    "parameters3 = {'C': [0.001, 0.01, 0.1]} \n",
    "\n",
    "\n",
    "best_clf3 = grid_search(clf1, parameters1, X_train, y_train)\n",
    "\n",
    "best_clf3.fit(X_train, y_train) # Training the new (best)classifier\n",
    "best_predictions = best_clf3.predict(X_test) # Predicting resulsts "
   ]
  },
  {
   "cell_type": "code",
   "execution_count": 128,
   "metadata": {
    "colab": {
     "base_uri": "https://localhost:8080/",
     "height": 207
    },
    "colab_type": "code",
    "executionInfo": {
     "elapsed": 692727,
     "status": "ok",
     "timestamp": 1560987687401,
     "user": {
      "displayName": "Mahmoud Galal",
      "photoUrl": "https://lh3.googleusercontent.com/-YxcylynoizM/AAAAAAAAAAI/AAAAAAAAAAk/7Yz1NkZHuHA/s64/photo.jpg",
      "userId": "06347805963297415872"
     },
     "user_tz": -120
    },
    "id": "vBaSCkOW8Eu6",
    "outputId": "df044370-876b-4a37-f242-011d09db95f1"
   },
   "outputs": [
    {
     "name": "stdout",
     "output_type": "stream",
     "text": [
      "Best parameter values is {'C': 0.1, 'cache_size': 200, 'class_weight': None, 'coef0': 0.0, 'decision_function_shape': 'ovr', 'degree': 2, 'gamma': 'auto', 'kernel': 'linear', 'max_iter': -1, 'probability': False, 'random_state': 7, 'shrinking': True, 'tol': 0.001, 'verbose': False}\n",
      "\n",
      " Unoptimized model\n",
      "------\n",
      "Fbeta-score on training data: 0.9775\n",
      "Fbeta-score on testing data: 0.9950\n",
      "\n",
      "Optimized Model\n",
      "------\n",
      "Final Fbeta-score on the testing data: 0.9763\n"
     ]
    }
   ],
   "source": [
    "train_score = fbeta_score(y_train, best_clf3.predict(X_train), beta = 0.7)\n",
    "\n",
    "print(\"Best parameter values is\", best_clf3.get_params())\n",
    "\n",
    "print (\"\\n Unoptimized model\\n------\")\n",
    "print (\"Fbeta-score on training data: {:.4f}\".format(train_score))\n",
    "print (\"Fbeta-score on testing data: {:.4f}\".format(A_fbeta_score))\n",
    "print (\"\\nOptimized Model\\n------\")\n",
    "print (\"Final Fbeta-score on the testing data: {:.4f}\".format(fbeta_score(y_test, best_predictions, beta = 0.7)))"
   ]
  },
  {
   "cell_type": "code",
   "execution_count": 129,
   "metadata": {
    "colab": {
     "base_uri": "https://localhost:8080/",
     "height": 416
    },
    "colab_type": "code",
    "executionInfo": {
     "elapsed": 692711,
     "status": "ok",
     "timestamp": 1560987687404,
     "user": {
      "displayName": "Mahmoud Galal",
      "photoUrl": "https://lh3.googleusercontent.com/-YxcylynoizM/AAAAAAAAAAI/AAAAAAAAAAk/7Yz1NkZHuHA/s64/photo.jpg",
      "userId": "06347805963297415872"
     },
     "user_tz": -120
    },
    "id": "XsZlitRv8D8z",
    "outputId": "5923cc4f-1562-4a1a-96c2-9db3e6a1d017"
   },
   "outputs": [
    {
     "name": "stdout",
     "output_type": "stream",
     "text": [
      "SVC(C=0.1, cache_size=200, class_weight=None, coef0=0.0,\n",
      "  decision_function_shape='ovr', degree=3, gamma=0.1, kernel='rbf',\n",
      "  max_iter=-1, probability=False, random_state=5, shrinking=True,\n",
      "  tol=0.001, verbose=False)\n",
      "Normalized confusion matrix\n",
      "[[0.97382971 0.02617029]\n",
      " [0.00727934 0.99272066]]\n"
     ]
    },
    {
     "data": {
      "image/png": "[encoded data removed]",
      "text/plain": [
       "<Figure size 432x288 with 2 Axes>"
      ]
     },
     "metadata": {
      "tags": []
     },
     "output_type": "display_data"
    }
   ],
   "source": [
    "print(best_clf2)\n",
    "my_conf_matrix = confusion_matrix(y_test, best_predictions) # Calculating the confussion matrix\n",
    "vs.plot_confusion_matrix(my_conf_matrix, classes=['Positive', 'Negtive'], normalize=True, title=\"Gradient boosting confusion matrix\")"
   ]
  },
  {
   "cell_type": "markdown",
   "metadata": {
    "colab_type": "text",
    "id": "hPQ9dwYIF6t8"
   },
   "source": [
    "## Saving the model"
   ]
  },
  {
   "cell_type": "code",
   "execution_count": 0,
   "metadata": {
    "colab": {},
    "colab_type": "code",
    "id": "Njl2Qj33F6t-"
   },
   "outputs": [],
   "source": [
    "import pickle\n",
    "\n",
    "with open('best_poly.pickle', 'wb') as f:\n",
    " pickle.dump(best_clf1, f)\n",
    "  \n",
    "with open('best_rbf.pickle', 'wb') as f:\n",
    " pickle.dump(best_clf2, f)\n",
    "  \n",
    "with open('best_linear.pickle', 'wb') as f:\n",
    "  pickle.dump(best_clf3, f)"
   ]
  },
  {
   "cell_type": "markdown",
   "metadata": {
    "colab_type": "text",
    "id": "t5EQMukUF6uH"
   },
   "source": [
    "## Predicting results"
   ]
  },
  {
   "cell_type": "code",
   "execution_count": 0,
   "metadata": {
    "colab": {},
    "colab_type": "code",
    "id": "iXYWnYFjF6uM"
   },
   "outputs": [],
   "source": [
    "import pickle\n",
    "\n",
    "  \n",
    "with open('scaler.save', 'rb') as f:\n",
    "    sc = pickle.load(f)  # loading the saved model\n",
    "    \n",
    "    \n",
    "# Here i'm defining a function for you to ease the testing process for you, \n",
    "# all you have to do is to provide the feature array in the next code cell\n",
    "\n",
    "def predict_diabetes(clf, arr):\n",
    "  \n",
    "    my_arr = np.log(arr + 1)\n",
    "    my_arr = sc.transform(my_arr.reshape(1, -1))\n",
    "    print(arr)\n",
    "    print(my_arr)\n",
    "    results = clf.predict(my_arr)\n",
    "    print(clf)\n",
    "    \n",
    "    return results"
   ]
  },
  {
   "cell_type": "code",
   "execution_count": 137,
   "metadata": {
    "colab": {
     "base_uri": "https://localhost:8080/",
     "height": 153
    },
    "colab_type": "code",
    "executionInfo": {
     "elapsed": 721,
     "status": "ok",
     "timestamp": 1560987761409,
     "user": {
      "displayName": "Mahmoud Galal",
      "photoUrl": "https://lh3.googleusercontent.com/-YxcylynoizM/AAAAAAAAAAI/AAAAAAAAAAk/7Yz1NkZHuHA/s64/photo.jpg",
      "userId": "06347805963297415872"
     },
     "user_tz": -120
    },
    "id": "sVx-nY71F6uR",
    "outputId": "85f16246-609e-45f7-f7a3-74469bf73869"
   },
   "outputs": [
    {
     "name": "stdout",
     "output_type": "stream",
     "text": [
      "[100.    10.    15.25]\n",
      "[[0.52876564 0.36059694 0.48938865]]\n",
      "SVC(C=0.1, cache_size=200, class_weight=None, coef0=0.0,\n",
      "  decision_function_shape='ovr', degree=2, gamma='auto', kernel='poly',\n",
      "  max_iter=-1, probability=False, random_state=7, shrinking=True,\n",
      "  tol=0.001, verbose=False)\n",
      "[0]\n",
      "Healthy !\n"
     ]
    }
   ],
   "source": [
    "import pickle\n",
    "\n",
    "#['calories','fat', 'carbs']\n",
    "# [457.3, 15.71, 22.33]\n",
    "# [100, 10, 15.25]\n",
    "\n",
    "my_arr = np.array([100, 10, 15.25]) # <== pass the features array here\n",
    "\n",
    "with open('best_poly.pickle', 'rb') as f:\n",
    "    loaded_clf = pickle.load(f) # loading the saved model\n",
    "\n",
    "result = predict_diabetes(loaded_clf, my_arr) # Invoking the predicting funcrion\n",
    "\n",
    "print(result)\n",
    "if result == 1:\n",
    "    print(\"Harmful !\")\n",
    "elif result == 0:\n",
    "    print(\"Healthy !\")"
   ]
  },
  {
   "cell_type": "code",
   "execution_count": 133,
   "metadata": {
    "colab": {
     "base_uri": "https://localhost:8080/",
     "height": 34
    },
    "colab_type": "code",
    "executionInfo": {
     "elapsed": 692656,
     "status": "ok",
     "timestamp": 1560987687418,
     "user": {
      "displayName": "Mahmoud Galal",
      "photoUrl": "https://lh3.googleusercontent.com/-YxcylynoizM/AAAAAAAAAAI/AAAAAAAAAAk/7Yz1NkZHuHA/s64/photo.jpg",
      "userId": "06347805963297415872"
     },
     "user_tz": -120
    },
    "id": "iS7HxIv0F6uY",
    "outputId": "f73d1af0-357e-4bcf-ee79-d508c6fdb84b"
   },
   "outputs": [
    {
     "name": "stdout",
     "output_type": "stream",
     "text": [
      "0.19.1\n"
     ]
    }
   ],
   "source": [
    "print(sklearn.__version__)"
   ]
  },
  {
   "cell_type": "code",
   "execution_count": 0,
   "metadata": {
    "colab": {},
    "colab_type": "code",
    "id": "3QkRRvTetY8U"
   },
   "outputs": [],
   "source": []
  }
 ],
 "metadata": {
  "accelerator": "GPU",
  "colab": {
   "collapsed_sections": [],
   "name": "diabetes classifier.ipynb",
   "provenance": [
    {
     "file_id": "1evB1n12CgxOUFYCCCNIYkntWqKfylOKv",
     "timestamp": 1560804933686
    }
   ],
   "toc_visible": true,
   "version": "0.3.2"
  },
  "kernelspec": {
   "display_name": "Python 3",
   "language": "python",
   "name": "python3"
  },
  "language_info": {
   "codemirror_mode": {
    "name": "ipython",
    "version": 3
   },
   "file_extension": ".py",
   "mimetype": "text/x-python",
   "name": "python",
   "nbconvert_exporter": "python",
   "pygments_lexer": "ipython3",
   "version": "3.7.3"
  }
 },
 "nbformat": 4,
 "nbformat_minor": 1
}
